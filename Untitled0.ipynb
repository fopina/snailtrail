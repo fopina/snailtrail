{
  "nbformat": 4,
  "nbformat_minor": 0,
  "metadata": {
    "colab": {
      "name": "Untitled0.ipynb",
      "provenance": [],
      "mount_file_id": "1PD0J8GqRlytR6yovmBnma94fkvgExIWA",
      "authorship_tag": "ABX9TyMG3ptEdCBwbwoQ2Z6jPBAZ",
      "include_colab_link": true
    },
    "kernelspec": {
      "name": "python3",
      "display_name": "Python 3"
    },
    "language_info": {
      "name": "python"
    }
  },
  "cells": [
    {
      "cell_type": "markdown",
      "metadata": {
        "id": "view-in-github",
        "colab_type": "text"
      },
      "source": [
        "<a href=\"https://colab.research.google.com/github/fopina/snailtrail/blob/main/Untitled0.ipynb\" target=\"_parent\"><img src=\"https://colab.research.google.com/assets/colab-badge.svg\" alt=\"Open In Colab\"/></a>"
      ]
    },
    {
      "cell_type": "code",
      "execution_count": null,
      "metadata": {
        "id": "hi2S7b8TU0lC"
      },
      "outputs": [],
      "source": [
        ""
      ]
    },
    {
      "cell_type": "code",
      "source": [
        "import subprocess\n",
        "print(subprocess.check_output(\"ls ..\", shell=True))"
      ],
      "metadata": {
        "colab": {
          "base_uri": "https://localhost:8080/"
        },
        "id": "_FYk3uIwU5yu",
        "outputId": "3a39ae26-f234-4310-876c-aadc342f561b"
      },
      "execution_count": 4,
      "outputs": [
        {
          "output_type": "stream",
          "name": "stdout",
          "text": [
            "b'bin\\nboot\\ncontent\\ndatalab\\ndev\\netc\\nhome\\nlib\\nlib32\\nlib64\\nmedia\\nmnt\\nopt\\nproc\\npython-apt\\nroot\\nrun\\nsbin\\nsrv\\nsys\\ntensorflow-1.15.2\\ntmp\\ntools\\nusr\\nvar\\n'\n"
          ]
        }
      ]
    }
  ]
}